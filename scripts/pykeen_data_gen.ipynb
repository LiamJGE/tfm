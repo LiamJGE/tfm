{
 "cells": [
  {
   "cell_type": "code",
   "execution_count": 2,
   "metadata": {},
   "outputs": [],
   "source": [
    "import pandas as pd\n",
    "import numpy as np\n",
    "\n",
    "from rdflib import Graph, Namespace, URIRef, Literal\n",
    "from rdflib.namespace import RDF\n",
    "\n",
    "import os"
   ]
  },
  {
   "cell_type": "code",
   "execution_count": 3,
   "metadata": {},
   "outputs": [
    {
     "name": "stdout",
     "output_type": "stream",
     "text": [
      "Dataset: forbes\n",
      "Query type: simple\n",
      "Mod: real_property_corr\n",
      "Extra Mod: None\n",
      "Dataset: auto_mpg\n",
      "Query type: simple\n",
      "Mod: real_property_corr\n",
      "Extra Mod: None\n",
      "Dataset: aaup\n",
      "Query type: simple\n",
      "Mod: real_property_corr\n",
      "Extra Mod: None\n"
     ]
    },
    {
     "ename": "FileNotFoundError",
     "evalue": "[Errno 2] No such file or directory: '/Users/liam/Documents/master/tfm/data/aaup/simple_query_real_property_corrmod/graph.owl'",
     "output_type": "error",
     "traceback": [
      "\u001b[0;31m---------------------------------------------------------------------------\u001b[0m",
      "\u001b[0;31mFileNotFoundError\u001b[0m                         Traceback (most recent call last)",
      "Cell \u001b[0;32mIn[3], line 25\u001b[0m\n\u001b[1;32m     22\u001b[0m \u001b[38;5;66;03m# if os.path.exists(f'../data/{dataset}/{query_type}_query_{mod}mod{extra_mod}/embeddings.pkl'):\u001b[39;00m\n\u001b[1;32m     24\u001b[0m g \u001b[38;5;241m=\u001b[39m Graph()\n\u001b[0;32m---> 25\u001b[0m \u001b[43mg\u001b[49m\u001b[38;5;241;43m.\u001b[39;49m\u001b[43mparse\u001b[49m\u001b[43m(\u001b[49m\u001b[38;5;124;43mf\u001b[39;49m\u001b[38;5;124;43m'\u001b[39;49m\u001b[38;5;124;43m../data/\u001b[39;49m\u001b[38;5;132;43;01m{\u001b[39;49;00m\u001b[43mdataset\u001b[49m\u001b[38;5;132;43;01m}\u001b[39;49;00m\u001b[38;5;124;43m/\u001b[39;49m\u001b[38;5;132;43;01m{\u001b[39;49;00m\u001b[43mquery_type\u001b[49m\u001b[38;5;132;43;01m}\u001b[39;49;00m\u001b[38;5;124;43m_query_\u001b[39;49m\u001b[38;5;132;43;01m{\u001b[39;49;00m\u001b[43mmod\u001b[49m\u001b[38;5;132;43;01m}\u001b[39;49;00m\u001b[38;5;124;43mmod\u001b[39;49m\u001b[38;5;132;43;01m{\u001b[39;49;00m\u001b[43mextra_mod\u001b[49m\u001b[38;5;132;43;01m}\u001b[39;49;00m\u001b[38;5;124;43m/graph.owl\u001b[39;49m\u001b[38;5;124;43m'\u001b[39;49m\u001b[43m,\u001b[49m\u001b[43m \u001b[49m\u001b[38;5;28;43mformat\u001b[39;49m\u001b[38;5;241;43m=\u001b[39;49m\u001b[38;5;124;43m'\u001b[39;49m\u001b[38;5;124;43mxml\u001b[39;49m\u001b[38;5;124;43m'\u001b[39;49m\u001b[43m)\u001b[49m\n\u001b[1;32m     26\u001b[0m entries \u001b[38;5;241m=\u001b[39m []\n\u001b[1;32m     27\u001b[0m entities \u001b[38;5;241m=\u001b[39m \u001b[38;5;28mset\u001b[39m()\n",
      "File \u001b[0;32m~/miniconda3/envs/owl/lib/python3.10/site-packages/rdflib/graph.py:1468\u001b[0m, in \u001b[0;36mGraph.parse\u001b[0;34m(self, source, publicID, format, location, file, data, **args)\u001b[0m\n\u001b[1;32m   1373\u001b[0m \u001b[38;5;28;01mdef\u001b[39;00m \u001b[38;5;21mparse\u001b[39m(\n\u001b[1;32m   1374\u001b[0m     \u001b[38;5;28mself\u001b[39m,\n\u001b[1;32m   1375\u001b[0m     source: Optional[\n\u001b[0;32m   (...)\u001b[0m\n\u001b[1;32m   1383\u001b[0m     \u001b[38;5;241m*\u001b[39m\u001b[38;5;241m*\u001b[39margs: Any,\n\u001b[1;32m   1384\u001b[0m ) \u001b[38;5;241m-\u001b[39m\u001b[38;5;241m>\u001b[39m \u001b[38;5;124m\"\u001b[39m\u001b[38;5;124mGraph\u001b[39m\u001b[38;5;124m\"\u001b[39m:\n\u001b[1;32m   1385\u001b[0m \u001b[38;5;250m    \u001b[39m\u001b[38;5;124;03m\"\"\"\u001b[39;00m\n\u001b[1;32m   1386\u001b[0m \u001b[38;5;124;03m    Parse an RDF source adding the resulting triples to the Graph.\u001b[39;00m\n\u001b[1;32m   1387\u001b[0m \n\u001b[0;32m   (...)\u001b[0m\n\u001b[1;32m   1465\u001b[0m \n\u001b[1;32m   1466\u001b[0m \u001b[38;5;124;03m    \"\"\"\u001b[39;00m\n\u001b[0;32m-> 1468\u001b[0m     source \u001b[38;5;241m=\u001b[39m \u001b[43mcreate_input_source\u001b[49m\u001b[43m(\u001b[49m\n\u001b[1;32m   1469\u001b[0m \u001b[43m        \u001b[49m\u001b[43msource\u001b[49m\u001b[38;5;241;43m=\u001b[39;49m\u001b[43msource\u001b[49m\u001b[43m,\u001b[49m\n\u001b[1;32m   1470\u001b[0m \u001b[43m        \u001b[49m\u001b[43mpublicID\u001b[49m\u001b[38;5;241;43m=\u001b[39;49m\u001b[43mpublicID\u001b[49m\u001b[43m,\u001b[49m\n\u001b[1;32m   1471\u001b[0m \u001b[43m        \u001b[49m\u001b[43mlocation\u001b[49m\u001b[38;5;241;43m=\u001b[39;49m\u001b[43mlocation\u001b[49m\u001b[43m,\u001b[49m\n\u001b[1;32m   1472\u001b[0m \u001b[43m        \u001b[49m\u001b[43mfile\u001b[49m\u001b[38;5;241;43m=\u001b[39;49m\u001b[43mfile\u001b[49m\u001b[43m,\u001b[49m\n\u001b[1;32m   1473\u001b[0m \u001b[43m        \u001b[49m\u001b[43mdata\u001b[49m\u001b[38;5;241;43m=\u001b[39;49m\u001b[43mdata\u001b[49m\u001b[43m,\u001b[49m\n\u001b[1;32m   1474\u001b[0m \u001b[43m        \u001b[49m\u001b[38;5;28;43mformat\u001b[39;49m\u001b[38;5;241;43m=\u001b[39;49m\u001b[38;5;28;43mformat\u001b[39;49m\u001b[43m,\u001b[49m\n\u001b[1;32m   1475\u001b[0m \u001b[43m    \u001b[49m\u001b[43m)\u001b[49m\n\u001b[1;32m   1476\u001b[0m     \u001b[38;5;28;01mif\u001b[39;00m \u001b[38;5;28mformat\u001b[39m \u001b[38;5;129;01mis\u001b[39;00m \u001b[38;5;28;01mNone\u001b[39;00m:\n\u001b[1;32m   1477\u001b[0m         \u001b[38;5;28mformat\u001b[39m \u001b[38;5;241m=\u001b[39m source\u001b[38;5;241m.\u001b[39mcontent_type\n",
      "File \u001b[0;32m~/miniconda3/envs/owl/lib/python3.10/site-packages/rdflib/parser.py:401\u001b[0m, in \u001b[0;36mcreate_input_source\u001b[0;34m(source, publicID, location, file, data, format)\u001b[0m\n\u001b[1;32m    394\u001b[0m         \u001b[38;5;28;01massert\u001b[39;00m data \u001b[38;5;129;01mis\u001b[39;00m \u001b[38;5;28;01mNone\u001b[39;00m\n\u001b[1;32m    395\u001b[0m         \u001b[38;5;28;01massert\u001b[39;00m source \u001b[38;5;129;01mis\u001b[39;00m \u001b[38;5;28;01mNone\u001b[39;00m\n\u001b[1;32m    396\u001b[0m     (\n\u001b[1;32m    397\u001b[0m         absolute_location,\n\u001b[1;32m    398\u001b[0m         auto_close,\n\u001b[1;32m    399\u001b[0m         file,\n\u001b[1;32m    400\u001b[0m         input_source,\n\u001b[0;32m--> 401\u001b[0m     ) \u001b[38;5;241m=\u001b[39m \u001b[43m_create_input_source_from_location\u001b[49m\u001b[43m(\u001b[49m\n\u001b[1;32m    402\u001b[0m \u001b[43m        \u001b[49m\u001b[43mfile\u001b[49m\u001b[38;5;241;43m=\u001b[39;49m\u001b[43mfile\u001b[49m\u001b[43m,\u001b[49m\n\u001b[1;32m    403\u001b[0m \u001b[43m        \u001b[49m\u001b[38;5;28;43mformat\u001b[39;49m\u001b[38;5;241;43m=\u001b[39;49m\u001b[38;5;28;43mformat\u001b[39;49m\u001b[43m,\u001b[49m\n\u001b[1;32m    404\u001b[0m \u001b[43m        \u001b[49m\u001b[43minput_source\u001b[49m\u001b[38;5;241;43m=\u001b[39;49m\u001b[43minput_source\u001b[49m\u001b[43m,\u001b[49m\n\u001b[1;32m    405\u001b[0m \u001b[43m        \u001b[49m\u001b[43mlocation\u001b[49m\u001b[38;5;241;43m=\u001b[39;49m\u001b[43mlocation\u001b[49m\u001b[43m,\u001b[49m\n\u001b[1;32m    406\u001b[0m \u001b[43m    \u001b[49m\u001b[43m)\u001b[49m\n\u001b[1;32m    408\u001b[0m \u001b[38;5;28;01mif\u001b[39;00m file \u001b[38;5;129;01mis\u001b[39;00m \u001b[38;5;129;01mnot\u001b[39;00m \u001b[38;5;28;01mNone\u001b[39;00m:\n\u001b[1;32m    409\u001b[0m     \u001b[38;5;28;01mif\u001b[39;00m TYPE_CHECKING:\n",
      "File \u001b[0;32m~/miniconda3/envs/owl/lib/python3.10/site-packages/rdflib/parser.py:461\u001b[0m, in \u001b[0;36m_create_input_source_from_location\u001b[0;34m(file, format, input_source, location)\u001b[0m\n\u001b[1;32m    459\u001b[0m \u001b[38;5;28;01mif\u001b[39;00m absolute_location\u001b[38;5;241m.\u001b[39mstartswith(\u001b[38;5;124m\"\u001b[39m\u001b[38;5;124mfile:///\u001b[39m\u001b[38;5;124m\"\u001b[39m):\n\u001b[1;32m    460\u001b[0m     filename \u001b[38;5;241m=\u001b[39m url2pathname(absolute_location\u001b[38;5;241m.\u001b[39mreplace(\u001b[38;5;124m\"\u001b[39m\u001b[38;5;124mfile:///\u001b[39m\u001b[38;5;124m\"\u001b[39m, \u001b[38;5;124m\"\u001b[39m\u001b[38;5;124m/\u001b[39m\u001b[38;5;124m\"\u001b[39m))\n\u001b[0;32m--> 461\u001b[0m     file \u001b[38;5;241m=\u001b[39m \u001b[38;5;28;43mopen\u001b[39;49m\u001b[43m(\u001b[49m\u001b[43mfilename\u001b[49m\u001b[43m,\u001b[49m\u001b[43m \u001b[49m\u001b[38;5;124;43m\"\u001b[39;49m\u001b[38;5;124;43mrb\u001b[39;49m\u001b[38;5;124;43m\"\u001b[39;49m\u001b[43m)\u001b[49m\n\u001b[1;32m    462\u001b[0m \u001b[38;5;28;01melse\u001b[39;00m:\n\u001b[1;32m    463\u001b[0m     input_source \u001b[38;5;241m=\u001b[39m URLInputSource(absolute_location, \u001b[38;5;28mformat\u001b[39m)\n",
      "\u001b[0;31mFileNotFoundError\u001b[0m: [Errno 2] No such file or directory: '/Users/liam/Documents/master/tfm/data/aaup/simple_query_real_property_corrmod/graph.owl'"
     ]
    }
   ],
   "source": [
    "# datasets = ['forbes', 'auto_mpg', 'aaup', 'cars93']\n",
    "datasets = ['cars93']\n",
    "query_types = ['simple']\n",
    "# query_types = ['simple']\n",
    "# mods = ['', 'property', 'attribute', 'attribute_corr']\n",
    "mods = ['real_property_corr']\n",
    "\n",
    "for dataset in datasets:\n",
    "    print('Dataset:', dataset)\n",
    "    for query_type in query_types:\n",
    "        print('Query type:', query_type)\n",
    "        for mod in mods:\n",
    "            if query_type == 'full' and mod == '' and dataset != 'auto_mpg' and dataset != 'cars93':\n",
    "                extra_mods = ['_less_props', '_no_literals', '']\n",
    "            else:\n",
    "                extra_mods = ['']\n",
    "            print('Mod:', mod if mod != '' else 'None')\n",
    "\n",
    "            for extra_mod in extra_mods:\n",
    "                print('Extra Mod:', extra_mod if extra_mod != '' else 'None')\n",
    "\n",
    "                # if os.path.exists(f'../data/{dataset}/{query_type}_query_{mod}mod{extra_mod}/embeddings.pkl'):\n",
    "                    \n",
    "                g = Graph()\n",
    "                g.parse(f'../data/{dataset}/{query_type}_query_{mod}mod{extra_mod}/graph.owl', format='xml')\n",
    "                entries = []\n",
    "                entities = set()\n",
    "                relations = set()\n",
    "                for subject, predicate, obj in g.triples((None, None, None)):\n",
    "                    entry = {}\n",
    "                    entry['subject'] = subject\n",
    "                    entry['predicate'] = predicate\n",
    "                    entry['object'] = obj\n",
    "                    entries.append(entry)\n",
    "                    entities.add(subject)\n",
    "                    # entities.add(obj)\n",
    "                    relations.add(predicate)\n",
    "\n",
    "                df_triples = pd.DataFrame.from_dict(entries)\n",
    "                if not os.path.exists(f'../data/{dataset}/{query_type}_query_{mod}mod{extra_mod}/pykeen/'):\n",
    "                    os.makedirs(f'../data/{dataset}/{query_type}_query_{mod}mod{extra_mod}/pykeen/')\n",
    "                df_triples.to_csv(f'../data/{dataset}/{query_type}_query_{mod}mod{extra_mod}/pykeen/graph.txt', index=False, header=False, sep=' ')\n",
    "                with open(f'../data/{dataset}/{query_type}_query_{mod}mod{extra_mod}/pykeen/entities.txt', 'w') as ent_file:\n",
    "                    ent_file.write((' ').join(list(entities)))\n",
    "                with open(f'../data/{dataset}/{query_type}_query_{mod}mod{extra_mod}/pykeen/relations.txt', 'w') as rel_file:\n",
    "                    rel_file.write((' ').join(list(relations)))"
   ]
  }
 ],
 "metadata": {
  "kernelspec": {
   "display_name": "owl",
   "language": "python",
   "name": "python3"
  },
  "language_info": {
   "codemirror_mode": {
    "name": "ipython",
    "version": 3
   },
   "file_extension": ".py",
   "mimetype": "text/x-python",
   "name": "python",
   "nbconvert_exporter": "python",
   "pygments_lexer": "ipython3",
   "version": "3.10.14"
  }
 },
 "nbformat": 4,
 "nbformat_minor": 2
}
