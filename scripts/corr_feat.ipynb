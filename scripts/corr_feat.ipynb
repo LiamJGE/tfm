{
 "cells": [
  {
   "cell_type": "code",
   "execution_count": 1,
   "metadata": {},
   "outputs": [],
   "source": [
    "import pandas as pd\n",
    "import numpy as np"
   ]
  },
  {
   "cell_type": "code",
   "execution_count": 2,
   "metadata": {},
   "outputs": [],
   "source": [
    "# df = pd.read_csv('../data_archive/cars93_complete_dataset.tsv', sep='\\t')\n",
    "dataset = 'cars93'\n",
    "df = pd.read_csv(f'../data/{dataset}/complete_dataset.tsv', sep='\\t')"
   ]
  },
  {
   "cell_type": "code",
   "execution_count": 3,
   "metadata": {},
   "outputs": [
    {
     "data": {
      "text/plain": [
       "(1585, 11)"
      ]
     },
     "execution_count": 3,
     "metadata": {},
     "output_type": "execute_result"
    }
   ],
   "source": [
    "df.shape"
   ]
  },
  {
   "cell_type": "code",
   "execution_count": 8,
   "metadata": {},
   "outputs": [
    {
     "data": {
      "text/html": [
       "<div>\n",
       "<style scoped>\n",
       "    .dataframe tbody tr th:only-of-type {\n",
       "        vertical-align: middle;\n",
       "    }\n",
       "\n",
       "    .dataframe tbody tr th {\n",
       "        vertical-align: top;\n",
       "    }\n",
       "\n",
       "    .dataframe thead th {\n",
       "        text-align: right;\n",
       "    }\n",
       "</style>\n",
       "<table border=\"1\" class=\"dataframe\">\n",
       "  <thead>\n",
       "    <tr style=\"text-align: right;\">\n",
       "      <th></th>\n",
       "      <th>Sales</th>\n",
       "      <th>Rank</th>\n",
       "      <th>Profits</th>\n",
       "      <th>Sales</th>\n",
       "      <th>Assets</th>\n",
       "      <th>label_num</th>\n",
       "    </tr>\n",
       "  </thead>\n",
       "  <tbody>\n",
       "    <tr>\n",
       "      <th>Sales</th>\n",
       "      <td>1.000000</td>\n",
       "      <td>-0.499908</td>\n",
       "      <td>0.601531</td>\n",
       "      <td>1.000000</td>\n",
       "      <td>0.362493</td>\n",
       "      <td>0.651211</td>\n",
       "    </tr>\n",
       "    <tr>\n",
       "      <th>Rank</th>\n",
       "      <td>-0.499908</td>\n",
       "      <td>1.000000</td>\n",
       "      <td>-0.433046</td>\n",
       "      <td>-0.499908</td>\n",
       "      <td>-0.323097</td>\n",
       "      <td>-0.540831</td>\n",
       "    </tr>\n",
       "    <tr>\n",
       "      <th>Profits</th>\n",
       "      <td>0.601531</td>\n",
       "      <td>-0.433046</td>\n",
       "      <td>1.000000</td>\n",
       "      <td>0.601531</td>\n",
       "      <td>0.370796</td>\n",
       "      <td>0.788079</td>\n",
       "    </tr>\n",
       "    <tr>\n",
       "      <th>Sales</th>\n",
       "      <td>1.000000</td>\n",
       "      <td>-0.499908</td>\n",
       "      <td>0.601531</td>\n",
       "      <td>1.000000</td>\n",
       "      <td>0.362493</td>\n",
       "      <td>0.651211</td>\n",
       "    </tr>\n",
       "    <tr>\n",
       "      <th>Assets</th>\n",
       "      <td>0.362493</td>\n",
       "      <td>-0.323097</td>\n",
       "      <td>0.370796</td>\n",
       "      <td>0.362493</td>\n",
       "      <td>1.000000</td>\n",
       "      <td>0.378868</td>\n",
       "    </tr>\n",
       "    <tr>\n",
       "      <th>label_num</th>\n",
       "      <td>0.651211</td>\n",
       "      <td>-0.540831</td>\n",
       "      <td>0.788079</td>\n",
       "      <td>0.651211</td>\n",
       "      <td>0.378868</td>\n",
       "      <td>1.000000</td>\n",
       "    </tr>\n",
       "  </tbody>\n",
       "</table>\n",
       "</div>"
      ],
      "text/plain": [
       "              Sales      Rank   Profits     Sales    Assets  label_num\n",
       "Sales      1.000000 -0.499908  0.601531  1.000000  0.362493   0.651211\n",
       "Rank      -0.499908  1.000000 -0.433046 -0.499908 -0.323097  -0.540831\n",
       "Profits    0.601531 -0.433046  1.000000  0.601531  0.370796   0.788079\n",
       "Sales      1.000000 -0.499908  0.601531  1.000000  0.362493   0.651211\n",
       "Assets     0.362493 -0.323097  0.370796  0.362493  1.000000   0.378868\n",
       "label_num  0.651211 -0.540831  0.788079  0.651211  0.378868   1.000000"
      ]
     },
     "execution_count": 8,
     "metadata": {},
     "output_type": "execute_result"
    }
   ],
   "source": [
    "df[['Sales', 'Rank', 'Profits', 'Assets', 'label_num']].corr()"
   ]
  },
  {
   "cell_type": "code",
   "execution_count": 11,
   "metadata": {},
   "outputs": [],
   "source": [
    "# Forbes\n",
    "df['corr_feat'] = pd.qcut(df['Sales'], q=3, labels=[\"low\", \"medium\", \"high\"])"
   ]
  },
  {
   "cell_type": "code",
   "execution_count": 14,
   "metadata": {},
   "outputs": [
    {
     "ename": "KeyError",
     "evalue": "'Horsepower'",
     "output_type": "error",
     "traceback": [
      "\u001b[0;31m---------------------------------------------------------------------------\u001b[0m",
      "\u001b[0;31mKeyError\u001b[0m                                  Traceback (most recent call last)",
      "File \u001b[0;32m~/miniconda3/envs/owl/lib/python3.10/site-packages/pandas/core/indexes/base.py:3805\u001b[0m, in \u001b[0;36mIndex.get_loc\u001b[0;34m(self, key)\u001b[0m\n\u001b[1;32m   3804\u001b[0m \u001b[38;5;28;01mtry\u001b[39;00m:\n\u001b[0;32m-> 3805\u001b[0m     \u001b[38;5;28;01mreturn\u001b[39;00m \u001b[38;5;28;43mself\u001b[39;49m\u001b[38;5;241;43m.\u001b[39;49m\u001b[43m_engine\u001b[49m\u001b[38;5;241;43m.\u001b[39;49m\u001b[43mget_loc\u001b[49m\u001b[43m(\u001b[49m\u001b[43mcasted_key\u001b[49m\u001b[43m)\u001b[49m\n\u001b[1;32m   3806\u001b[0m \u001b[38;5;28;01mexcept\u001b[39;00m \u001b[38;5;167;01mKeyError\u001b[39;00m \u001b[38;5;28;01mas\u001b[39;00m err:\n",
      "File \u001b[0;32mindex.pyx:167\u001b[0m, in \u001b[0;36mpandas._libs.index.IndexEngine.get_loc\u001b[0;34m()\u001b[0m\n",
      "File \u001b[0;32mindex.pyx:196\u001b[0m, in \u001b[0;36mpandas._libs.index.IndexEngine.get_loc\u001b[0;34m()\u001b[0m\n",
      "File \u001b[0;32mpandas/_libs/hashtable_class_helper.pxi:7081\u001b[0m, in \u001b[0;36mpandas._libs.hashtable.PyObjectHashTable.get_item\u001b[0;34m()\u001b[0m\n",
      "File \u001b[0;32mpandas/_libs/hashtable_class_helper.pxi:7089\u001b[0m, in \u001b[0;36mpandas._libs.hashtable.PyObjectHashTable.get_item\u001b[0;34m()\u001b[0m\n",
      "\u001b[0;31mKeyError\u001b[0m: 'Horsepower'",
      "\nThe above exception was the direct cause of the following exception:\n",
      "\u001b[0;31mKeyError\u001b[0m                                  Traceback (most recent call last)",
      "Cell \u001b[0;32mIn[14], line 1\u001b[0m\n\u001b[0;32m----> 1\u001b[0m df[\u001b[38;5;124m'\u001b[39m\u001b[38;5;124mcorr_feat\u001b[39m\u001b[38;5;124m'\u001b[39m] \u001b[38;5;241m=\u001b[39m pd\u001b[38;5;241m.\u001b[39mqcut(\u001b[43mdf\u001b[49m\u001b[43m[\u001b[49m\u001b[38;5;124;43m'\u001b[39;49m\u001b[38;5;124;43mHorsepower\u001b[39;49m\u001b[38;5;124;43m'\u001b[39;49m\u001b[43m]\u001b[49m, q\u001b[38;5;241m=\u001b[39m\u001b[38;5;241m3\u001b[39m, labels\u001b[38;5;241m=\u001b[39m[\u001b[38;5;124m\"\u001b[39m\u001b[38;5;124mlow\u001b[39m\u001b[38;5;124m\"\u001b[39m, \u001b[38;5;124m\"\u001b[39m\u001b[38;5;124mmedium\u001b[39m\u001b[38;5;124m\"\u001b[39m, \u001b[38;5;124m\"\u001b[39m\u001b[38;5;124mhigh\u001b[39m\u001b[38;5;124m\"\u001b[39m])\n",
      "File \u001b[0;32m~/miniconda3/envs/owl/lib/python3.10/site-packages/pandas/core/frame.py:4090\u001b[0m, in \u001b[0;36mDataFrame.__getitem__\u001b[0;34m(self, key)\u001b[0m\n\u001b[1;32m   4088\u001b[0m \u001b[38;5;28;01mif\u001b[39;00m \u001b[38;5;28mself\u001b[39m\u001b[38;5;241m.\u001b[39mcolumns\u001b[38;5;241m.\u001b[39mnlevels \u001b[38;5;241m>\u001b[39m \u001b[38;5;241m1\u001b[39m:\n\u001b[1;32m   4089\u001b[0m     \u001b[38;5;28;01mreturn\u001b[39;00m \u001b[38;5;28mself\u001b[39m\u001b[38;5;241m.\u001b[39m_getitem_multilevel(key)\n\u001b[0;32m-> 4090\u001b[0m indexer \u001b[38;5;241m=\u001b[39m \u001b[38;5;28;43mself\u001b[39;49m\u001b[38;5;241;43m.\u001b[39;49m\u001b[43mcolumns\u001b[49m\u001b[38;5;241;43m.\u001b[39;49m\u001b[43mget_loc\u001b[49m\u001b[43m(\u001b[49m\u001b[43mkey\u001b[49m\u001b[43m)\u001b[49m\n\u001b[1;32m   4091\u001b[0m \u001b[38;5;28;01mif\u001b[39;00m is_integer(indexer):\n\u001b[1;32m   4092\u001b[0m     indexer \u001b[38;5;241m=\u001b[39m [indexer]\n",
      "File \u001b[0;32m~/miniconda3/envs/owl/lib/python3.10/site-packages/pandas/core/indexes/base.py:3812\u001b[0m, in \u001b[0;36mIndex.get_loc\u001b[0;34m(self, key)\u001b[0m\n\u001b[1;32m   3807\u001b[0m     \u001b[38;5;28;01mif\u001b[39;00m \u001b[38;5;28misinstance\u001b[39m(casted_key, \u001b[38;5;28mslice\u001b[39m) \u001b[38;5;129;01mor\u001b[39;00m (\n\u001b[1;32m   3808\u001b[0m         \u001b[38;5;28misinstance\u001b[39m(casted_key, abc\u001b[38;5;241m.\u001b[39mIterable)\n\u001b[1;32m   3809\u001b[0m         \u001b[38;5;129;01mand\u001b[39;00m \u001b[38;5;28many\u001b[39m(\u001b[38;5;28misinstance\u001b[39m(x, \u001b[38;5;28mslice\u001b[39m) \u001b[38;5;28;01mfor\u001b[39;00m x \u001b[38;5;129;01min\u001b[39;00m casted_key)\n\u001b[1;32m   3810\u001b[0m     ):\n\u001b[1;32m   3811\u001b[0m         \u001b[38;5;28;01mraise\u001b[39;00m InvalidIndexError(key)\n\u001b[0;32m-> 3812\u001b[0m     \u001b[38;5;28;01mraise\u001b[39;00m \u001b[38;5;167;01mKeyError\u001b[39;00m(key) \u001b[38;5;28;01mfrom\u001b[39;00m \u001b[38;5;21;01merr\u001b[39;00m\n\u001b[1;32m   3813\u001b[0m \u001b[38;5;28;01mexcept\u001b[39;00m \u001b[38;5;167;01mTypeError\u001b[39;00m:\n\u001b[1;32m   3814\u001b[0m     \u001b[38;5;66;03m# If we have a listlike key, _check_indexing_error will raise\u001b[39;00m\n\u001b[1;32m   3815\u001b[0m     \u001b[38;5;66;03m#  InvalidIndexError. Otherwise we fall through and re-raise\u001b[39;00m\n\u001b[1;32m   3816\u001b[0m     \u001b[38;5;66;03m#  the TypeError.\u001b[39;00m\n\u001b[1;32m   3817\u001b[0m     \u001b[38;5;28mself\u001b[39m\u001b[38;5;241m.\u001b[39m_check_indexing_error(key)\n",
      "\u001b[0;31mKeyError\u001b[0m: 'Horsepower'"
     ]
    }
   ],
   "source": [
    "# Cars 93\n",
    "df['corr_feat'] = pd.qcut(df['Horsepower'], q=3, labels=[\"low\", \"medium\", \"high\"])"
   ]
  },
  {
   "cell_type": "code",
   "execution_count": null,
   "metadata": {},
   "outputs": [],
   "source": [
    "# Auto MPG\n",
    "df['corr_feat'] = pd.qcut(df['Horsepower'], q=3, labels=[\"low\", \"medium\", \"high\"])"
   ]
  },
  {
   "cell_type": "code",
   "execution_count": 36,
   "metadata": {},
   "outputs": [
    {
     "data": {
      "text/plain": [
       "Index(['id', 'car', 'Type', 'Minimum_Price', 'Midrange_Price',\n",
       "       '_label_Maximum_Price', 'City_MPG', 'Highway_MPG', 'Air_Bags',\n",
       "       'Drive_train', 'Number_of_cylinders', 'Engine_size', 'Horsepower',\n",
       "       'RPM', '_Engine_revolutions_per_mile', '_Manual_transmission_available',\n",
       "       'Fuel_tank_capacity', 'Passenger_capacity', 'Length', 'Wheelbase',\n",
       "       'Width', 'U-turn_space', 'Rear_seat_room', 'Luggage_capacity',\n",
       "       'Weight_', 'Domestic'],\n",
       "      dtype='object')"
      ]
     },
     "execution_count": 36,
     "metadata": {},
     "output_type": "execute_result"
    }
   ],
   "source": [
    "df.columns"
   ]
  },
  {
   "cell_type": "code",
   "execution_count": null,
   "metadata": {},
   "outputs": [],
   "source": [
    "df['uri'].value_counts()"
   ]
  },
  {
   "cell_type": "code",
   "execution_count": null,
   "metadata": {},
   "outputs": [],
   "source": [
    "pd.set_option('display.max_columns', None)\n",
    "pd.set_option('display.max_rows', None)\n",
    "df.sort_values(by='uri')"
   ]
  },
  {
   "cell_type": "code",
   "execution_count": 57,
   "metadata": {},
   "outputs": [
    {
     "data": {
      "text/html": [
       "<div>\n",
       "<style scoped>\n",
       "    .dataframe tbody tr th:only-of-type {\n",
       "        vertical-align: middle;\n",
       "    }\n",
       "\n",
       "    .dataframe tbody tr th {\n",
       "        vertical-align: top;\n",
       "    }\n",
       "\n",
       "    .dataframe thead th {\n",
       "        text-align: right;\n",
       "    }\n",
       "</style>\n",
       "<table border=\"1\" class=\"dataframe\">\n",
       "  <thead>\n",
       "    <tr style=\"text-align: right;\">\n",
       "      <th></th>\n",
       "      <th>FICE</th>\n",
       "      <th>College_name</th>\n",
       "      <th>State</th>\n",
       "      <th>Type</th>\n",
       "      <th>Average_salary_full_professors</th>\n",
       "      <th>Average_salary_associate_professors</th>\n",
       "      <th>Average_salary_assistant_professors</th>\n",
       "      <th>Average_salary_all_ranks</th>\n",
       "      <th>Average_compensation_full_professor</th>\n",
       "      <th>Average_compensation_associate_professors</th>\n",
       "      <th>Average_compensation_assistant_professors</th>\n",
       "      <th>Average_compensation_all_ranks</th>\n",
       "      <th>Number_of_full_professors</th>\n",
       "      <th>Number_of_associate_professors</th>\n",
       "      <th>Number_of_assistant_professors</th>\n",
       "      <th>Number_of_instructors</th>\n",
       "      <th>Number_of_faculty_all_ranks</th>\n",
       "      <th>uri</th>\n",
       "      <th>label</th>\n",
       "      <th>label_comp</th>\n",
       "      <th>id</th>\n",
       "    </tr>\n",
       "  </thead>\n",
       "  <tbody>\n",
       "    <tr>\n",
       "      <th>0</th>\n",
       "      <td>1061.0</td>\n",
       "      <td>Alaska Pacific University</td>\n",
       "      <td>AK</td>\n",
       "      <td>IIB</td>\n",
       "      <td>454</td>\n",
       "      <td>382</td>\n",
       "      <td>362.0</td>\n",
       "      <td>382.0</td>\n",
       "      <td>567</td>\n",
       "      <td>485</td>\n",
       "      <td>471.0</td>\n",
       "      <td>487.0</td>\n",
       "      <td>6.0</td>\n",
       "      <td>11.0</td>\n",
       "      <td>9.0</td>\n",
       "      <td>4.0</td>\n",
       "      <td>32.0</td>\n",
       "      <td>http://dbpedia.org/resource/Alaska_Pacific_Uni...</td>\n",
       "      <td>medium</td>\n",
       "      <td>medium</td>\n",
       "      <td>1.0</td>\n",
       "    </tr>\n",
       "    <tr>\n",
       "      <th>1</th>\n",
       "      <td>1063.0</td>\n",
       "      <td>University of Alaska-Fairbanks</td>\n",
       "      <td>AK</td>\n",
       "      <td>I</td>\n",
       "      <td>686</td>\n",
       "      <td>560</td>\n",
       "      <td>432.0</td>\n",
       "      <td>508.0</td>\n",
       "      <td>914</td>\n",
       "      <td>753</td>\n",
       "      <td>572.0</td>\n",
       "      <td>677.0</td>\n",
       "      <td>74.0</td>\n",
       "      <td>125.0</td>\n",
       "      <td>118.0</td>\n",
       "      <td>40.0</td>\n",
       "      <td>404.0</td>\n",
       "      <td>http://dbpedia.org/resource/University_of_Alas...</td>\n",
       "      <td>high</td>\n",
       "      <td>high</td>\n",
       "      <td>2.0</td>\n",
       "    </tr>\n",
       "    <tr>\n",
       "      <th>2</th>\n",
       "      <td>1065.0</td>\n",
       "      <td>University of Alaska-Southeast</td>\n",
       "      <td>AK</td>\n",
       "      <td>IIA</td>\n",
       "      <td>533</td>\n",
       "      <td>494</td>\n",
       "      <td>329.0</td>\n",
       "      <td>415.0</td>\n",
       "      <td>716</td>\n",
       "      <td>663</td>\n",
       "      <td>442.0</td>\n",
       "      <td>559.0</td>\n",
       "      <td>9.0</td>\n",
       "      <td>26.0</td>\n",
       "      <td>20.0</td>\n",
       "      <td>9.0</td>\n",
       "      <td>70.0</td>\n",
       "      <td>http://dbpedia.org/resource/University_of_Alas...</td>\n",
       "      <td>medium</td>\n",
       "      <td>medium</td>\n",
       "      <td>3.0</td>\n",
       "    </tr>\n",
       "    <tr>\n",
       "      <th>3</th>\n",
       "      <td>11462.0</td>\n",
       "      <td>University of Alaska-Anchorage</td>\n",
       "      <td>AK</td>\n",
       "      <td>IIA</td>\n",
       "      <td>612</td>\n",
       "      <td>507</td>\n",
       "      <td>414.0</td>\n",
       "      <td>498.0</td>\n",
       "      <td>825</td>\n",
       "      <td>681</td>\n",
       "      <td>557.0</td>\n",
       "      <td>670.0</td>\n",
       "      <td>115.0</td>\n",
       "      <td>124.0</td>\n",
       "      <td>101.0</td>\n",
       "      <td>21.0</td>\n",
       "      <td>392.0</td>\n",
       "      <td>http://dbpedia.org/resource/University_of_Alas...</td>\n",
       "      <td>medium</td>\n",
       "      <td>high</td>\n",
       "      <td>4.0</td>\n",
       "    </tr>\n",
       "    <tr>\n",
       "      <th>4</th>\n",
       "      <td>1004.0</td>\n",
       "      <td>University of Montevallo</td>\n",
       "      <td>AL</td>\n",
       "      <td>IIA</td>\n",
       "      <td>441</td>\n",
       "      <td>385</td>\n",
       "      <td>310.0</td>\n",
       "      <td>388.0</td>\n",
       "      <td>542</td>\n",
       "      <td>473</td>\n",
       "      <td>383.0</td>\n",
       "      <td>477.0</td>\n",
       "      <td>57.0</td>\n",
       "      <td>33.0</td>\n",
       "      <td>35.0</td>\n",
       "      <td>2.0</td>\n",
       "      <td>127.0</td>\n",
       "      <td>http://dbpedia.org/resource/University_of_Mont...</td>\n",
       "      <td>medium</td>\n",
       "      <td>medium</td>\n",
       "      <td>5.0</td>\n",
       "    </tr>\n",
       "  </tbody>\n",
       "</table>\n",
       "</div>"
      ],
      "text/plain": [
       "      FICE                    College_name State Type  \\\n",
       "0   1061.0       Alaska Pacific University    AK  IIB   \n",
       "1   1063.0  University of Alaska-Fairbanks    AK    I   \n",
       "2   1065.0  University of Alaska-Southeast    AK  IIA   \n",
       "3  11462.0  University of Alaska-Anchorage    AK  IIA   \n",
       "4   1004.0        University of Montevallo    AL  IIA   \n",
       "\n",
       "  Average_salary_full_professors Average_salary_associate_professors  \\\n",
       "0                            454                                 382   \n",
       "1                            686                                 560   \n",
       "2                            533                                 494   \n",
       "3                            612                                 507   \n",
       "4                            441                                 385   \n",
       "\n",
       "   Average_salary_assistant_professors  Average_salary_all_ranks  \\\n",
       "0                                362.0                     382.0   \n",
       "1                                432.0                     508.0   \n",
       "2                                329.0                     415.0   \n",
       "3                                414.0                     498.0   \n",
       "4                                310.0                     388.0   \n",
       "\n",
       "  Average_compensation_full_professor  \\\n",
       "0                                 567   \n",
       "1                                 914   \n",
       "2                                 716   \n",
       "3                                 825   \n",
       "4                                 542   \n",
       "\n",
       "  Average_compensation_associate_professors  \\\n",
       "0                                       485   \n",
       "1                                       753   \n",
       "2                                       663   \n",
       "3                                       681   \n",
       "4                                       473   \n",
       "\n",
       "   Average_compensation_assistant_professors  Average_compensation_all_ranks  \\\n",
       "0                                      471.0                           487.0   \n",
       "1                                      572.0                           677.0   \n",
       "2                                      442.0                           559.0   \n",
       "3                                      557.0                           670.0   \n",
       "4                                      383.0                           477.0   \n",
       "\n",
       "   Number_of_full_professors  Number_of_associate_professors  \\\n",
       "0                        6.0                            11.0   \n",
       "1                       74.0                           125.0   \n",
       "2                        9.0                            26.0   \n",
       "3                      115.0                           124.0   \n",
       "4                       57.0                            33.0   \n",
       "\n",
       "   Number_of_assistant_professors  Number_of_instructors  \\\n",
       "0                             9.0                    4.0   \n",
       "1                           118.0                   40.0   \n",
       "2                            20.0                    9.0   \n",
       "3                           101.0                   21.0   \n",
       "4                            35.0                    2.0   \n",
       "\n",
       "   Number_of_faculty_all_ranks  \\\n",
       "0                         32.0   \n",
       "1                        404.0   \n",
       "2                         70.0   \n",
       "3                        392.0   \n",
       "4                        127.0   \n",
       "\n",
       "                                                 uri   label label_comp   id  \n",
       "0  http://dbpedia.org/resource/Alaska_Pacific_Uni...  medium     medium  1.0  \n",
       "1  http://dbpedia.org/resource/University_of_Alas...    high       high  2.0  \n",
       "2  http://dbpedia.org/resource/University_of_Alas...  medium     medium  3.0  \n",
       "3  http://dbpedia.org/resource/University_of_Alas...  medium       high  4.0  \n",
       "4  http://dbpedia.org/resource/University_of_Mont...  medium     medium  5.0  "
      ]
     },
     "execution_count": 57,
     "metadata": {},
     "output_type": "execute_result"
    }
   ],
   "source": [
    "df.head(5)"
   ]
  },
  {
   "cell_type": "code",
   "execution_count": 56,
   "metadata": {},
   "outputs": [
    {
     "data": {
      "text/plain": [
       "Index(['FICE', 'College_name', 'State', 'Type',\n",
       "       'Average_salary_full_professors', 'Average_salary_associate_professors',\n",
       "       'Average_salary_assistant_professors', 'Average_salary_all_ranks',\n",
       "       'Average_compensation_full_professor',\n",
       "       'Average_compensation_associate_professors',\n",
       "       'Average_compensation_assistant_professors',\n",
       "       'Average_compensation_all_ranks', 'Number_of_full_professors',\n",
       "       'Number_of_associate_professors', 'Number_of_assistant_professors',\n",
       "       'Number_of_instructors', 'Number_of_faculty_all_ranks', 'uri', 'label',\n",
       "       'label_comp', 'id'],\n",
       "      dtype='object')"
      ]
     },
     "execution_count": 56,
     "metadata": {},
     "output_type": "execute_result"
    }
   ],
   "source": [
    "df.columns"
   ]
  },
  {
   "cell_type": "code",
   "execution_count": 63,
   "metadata": {},
   "outputs": [],
   "source": [
    "# Define aggregation functions\n",
    "aggregations = {\n",
    "    'Average_salary_full_professors': 'mean',  # Mean for numeric columns\n",
    "    'Average_salary_associate_professors': 'mean',\n",
    "    'Average_salary_assistant_professors': 'mean',\n",
    "    'Average_salary_all_ranks': 'mean',\n",
    "    'Average_compensation_full_professor': 'mean',\n",
    "    'Average_compensation_associate_professors': 'mean',\n",
    "    'Average_compensation_assistant_professors': 'mean',\n",
    "    'Average_compensation_all_ranks': 'mean',\n",
    "    'Number_of_full_professors': 'mean',\n",
    "    'Number_of_associate_professors': 'mean',\n",
    "    'Number_of_assistant_professors': 'mean',\n",
    "    'Number_of_instructors': 'mean',\n",
    "    'Number_of_faculty_all_ranks': 'mean',\n",
    "    'FICE': lambda x: x.mode().iloc[0],  # Mode for string column\n",
    "    'College_name': lambda x: x.mode().iloc[0],  # Mode for string column\n",
    "    'State': lambda x: x.mode().iloc[0],  # Mode for string column\n",
    "    'label': lambda x: x.mode().iloc[0],  # Mode for string column\n",
    "    'label_comp': lambda x: x.mode().iloc[0],  # Mode for string column\n",
    "    'Type': lambda x: x.mode().iloc[0]  # Mode for string column\n",
    "}\n",
    "\n",
    "num_cols = [\n",
    "       'Average_salary_full_professors', 'Average_salary_associate_professors',\n",
    "       'Average_salary_assistant_professors', 'Average_salary_all_ranks',\n",
    "       'Average_compensation_full_professor',\n",
    "       'Average_compensation_associate_professors',\n",
    "       'Average_compensation_assistant_professors',\n",
    "       'Average_compensation_all_ranks', 'Number_of_full_professors',\n",
    "       'Number_of_associate_professors', 'Number_of_assistant_professors',\n",
    "       'Number_of_instructors', 'Number_of_faculty_all_ranks']\n",
    "\n",
    "for col in num_cols:\n",
    "    df[col] = pd.to_numeric(df[col],errors='coerce')\n",
    "\n",
    "# Apply aggregation functions\n",
    "df = df.groupby(by='uri').agg(aggregations)"
   ]
  },
  {
   "cell_type": "code",
   "execution_count": 46,
   "metadata": {},
   "outputs": [
    {
     "name": "stdout",
     "output_type": "stream",
     "text": [
      "0.33    17.8175\n",
      "0.66    24.6296\n",
      "1.00    39.1000\n",
      "Name: label, dtype: float64\n"
     ]
    },
    {
     "name": "stderr",
     "output_type": "stream",
     "text": [
      "/var/folders/2s/kn779x950tb67swhnt50znnm0000gn/T/ipykernel_1815/235010656.py:6: FutureWarning: Setting an item of incompatible dtype is deprecated and will raise an error in a future version of pandas. Value 'low' has dtype incompatible with float64, please explicitly cast to a compatible dtype first.\n",
      "  df.loc[df['label_num'] <= q.values[0], 'label'] = 'low'\n"
     ]
    }
   ],
   "source": [
    "df['label'] = df['mpg_label']\n",
    "q = df['label'].quantile([0.33, 0.66, 1])\n",
    "print(q)\n",
    "df['label_num'] = df['label']\n",
    "\n",
    "df.loc[df['label_num'] <= q.values[0], 'label'] = 'low'\n",
    "df.loc[(df['label_num'] > q.values[0]) & (df['label_num'] <= q.values[1]), 'label'] = 'medium'\n",
    "df.loc[df['label_num'] > q.values[1], 'label'] = 'high'"
   ]
  },
  {
   "cell_type": "code",
   "execution_count": 47,
   "metadata": {},
   "outputs": [
    {
     "data": {
      "text/plain": [
       "label\n",
       "high      41\n",
       "low       40\n",
       "medium    39\n",
       "Name: count, dtype: int64"
      ]
     },
     "execution_count": 47,
     "metadata": {},
     "output_type": "execute_result"
    }
   ],
   "source": [
    "df['label'].value_counts()"
   ]
  },
  {
   "cell_type": "code",
   "execution_count": 65,
   "metadata": {},
   "outputs": [],
   "source": [
    "df.to_csv('../data/aaup/complete_dataset.tsv', sep='\\t')"
   ]
  },
  {
   "cell_type": "code",
   "execution_count": 3,
   "metadata": {},
   "outputs": [],
   "source": [
    "def get_random_target(x):\n",
    "    options = [target for target in set(df['label'].values) if target != x]\n",
    "    return np.random.choice(options)"
   ]
  },
  {
   "cell_type": "code",
   "execution_count": 8,
   "metadata": {},
   "outputs": [
    {
     "name": "stdout",
     "output_type": "stream",
     "text": [
      "corr_feat  high  low  medium\n",
      "label                       \n",
      "high         12   27      27\n",
      "low         296  140     302\n",
      "medium      309  324     148\n",
      "The P-Value of the ChiSq Test is: 2.630576116268303e-28\n",
      "corr_feat    I  IIA  IIB\n",
      "label                   \n",
      "I           37   45   69\n",
      "IIA        107   56  109\n",
      "IIB        208  199  103\n",
      "The P-Value of the ChiSq Test is: 2.237449707094083e-13\n",
      "corr_feat  high  low  medium\n",
      "label                       \n",
      "high          7   16      18\n",
      "low          16    6      18\n",
      "medium       13   18       8\n",
      "The P-Value of the ChiSq Test is: 0.006582053882244355\n",
      "corr_feat  high  low  medium\n",
      "label                       \n",
      "high          3   10      19\n",
      "low          12    6      13\n",
      "medium       11   14       5\n",
      "The P-Value of the ChiSq Test is: 0.002169214563326059\n"
     ]
    }
   ],
   "source": [
    "from scipy.stats import chi2_contingency\n",
    "datasets = ['forbes', 'aaup', 'auto_mpg', 'cars93']\n",
    "for dataset in datasets:\n",
    "    df = pd.read_csv(f'../data/{dataset}/complete_dataset.tsv', sep='\\t')\n",
    "    df['corr_feat'] = df['label']\n",
    "    df['corr_feat'] = df['corr_feat'].apply(lambda x: x if np.random.rand() > 0.8 else get_random_target(x))\n",
    "    # Cross tabulation between GENDER and APPROVE_LOAN\n",
    "    CrosstabResult=pd.crosstab(index=df['label'],columns=df['corr_feat'])\n",
    "    print(CrosstabResult)\n",
    "        \n",
    "    # Performing Chi-sq test\n",
    "    ChiSqResult = chi2_contingency(CrosstabResult)\n",
    "    \n",
    "    # P-Value is the Probability of H0 being True\n",
    "    # If P-Value&gt;0.05 then only we Accept the assumption(H0)\n",
    "    \n",
    "    print('The P-Value of the ChiSq Test is:', ChiSqResult[1])\n",
    "\n",
    "    # Introduce missing values\n",
    "    missing_indices = np.random.choice(df.index, size=int(len(df) * 0.1), replace=False)\n",
    "    df.loc[missing_indices, 'corr_feat'] = np.nan\n",
    "\n",
    "    df.to_csv(f'../data/{dataset}/complete_dataset_corr_feat_less_less.tsv', sep='\\t')"
   ]
  },
  {
   "cell_type": "code",
   "execution_count": 5,
   "metadata": {},
   "outputs": [],
   "source": [
    "df['corr_feat'] = df['label']\n",
    "df['corr_feat'] = df['corr_feat'].apply(lambda x: x if np.random.rand() > 0.1 else get_random_target(x))"
   ]
  },
  {
   "cell_type": "code",
   "execution_count": 12,
   "metadata": {},
   "outputs": [
    {
     "name": "stdout",
     "output_type": "stream",
     "text": [
      "corr_feat  low  medium  high\n",
      "label                       \n",
      "high         0       2    64\n",
      "low        334     270   134\n",
      "medium     205     247   329\n",
      "The P-Value of the ChiSq Test is: 1.2114486962408402e-49\n"
     ]
    }
   ],
   "source": [
    "# Cross tabulation between GENDER and APPROVE_LOAN\n",
    "CrosstabResult=pd.crosstab(index=df['label'],columns=df['corr_feat'])\n",
    "print(CrosstabResult)\n",
    " \n",
    "# importing the required function\n",
    "from scipy.stats import chi2_contingency\n",
    " \n",
    "# Performing Chi-sq test\n",
    "ChiSqResult = chi2_contingency(CrosstabResult)\n",
    " \n",
    "# P-Value is the Probability of H0 being True\n",
    "# If P-Value&gt;0.05 then only we Accept the assumption(H0)\n",
    " \n",
    "print('The P-Value of the ChiSq Test is:', ChiSqResult[1])\n",
    "\n",
    "# Introduce missing values\n",
    "# missing_indices = np.random.choice(df.index, size=int(len(df) * 0.1), replace=False)\n",
    "# df.loc[missing_indices, 'corr_feat'] = np.nan"
   ]
  },
  {
   "cell_type": "code",
   "execution_count": 13,
   "metadata": {},
   "outputs": [],
   "source": [
    "df.to_csv(f'../data/{dataset}/complete_dataset_real_corr_feat.tsv', sep='\\t')"
   ]
  },
  {
   "cell_type": "code",
   "execution_count": 2,
   "metadata": {},
   "outputs": [
    {
     "name": "stdout",
     "output_type": "stream",
     "text": [
      "Dataset: aaup\n",
      "Query type: full\n",
      "Mod: None\n",
      "Number of properties: 141599\n",
      "Number of distinct properties: 578\n",
      "\n"
     ]
    }
   ],
   "source": [
    "from rdflib import Graph, Namespace, URIRef, Literal\n",
    "import os\n",
    "\n",
    "# datasets = ['forbes', 'aaup', 'auto_mpg', 'cars93']\n",
    "# datasets = ['cars93']\n",
    "datasets = ['aaup']\n",
    "# query_types = ['full', 'simple']\n",
    "query_types = ['full']\n",
    "# mods = ['', 'attribute_corr', 'property_corr', 'property_corr_less', 'property_corr_less_less', 'class_corr', 'class_corr_less', 'class_corr_less_less']\n",
    "mods = ['']\n",
    "\n",
    "for dataset in datasets:\n",
    "    print('Dataset:', dataset)\n",
    "    for query_type in query_types:\n",
    "        print('Query type:', query_type)\n",
    "        for mod in mods:\n",
    "            print('Mod:', mod if mod != '' else 'None')\n",
    "            g = Graph()\n",
    "            if os.path.exists(f'../data/{dataset}/{query_type}_query_{mod}mod/graph.owl'):\n",
    "                g.parse(f'../data/{dataset}/{query_type}_query_{mod}mod/graph.owl')\n",
    "                \n",
    "                # Query to count the number of distinct properties\n",
    "                query = \"\"\"\n",
    "                SELECT (COUNT(DISTINCT ?p) AS ?distPropertyCount) (COUNT(?p) AS ?propertyCount)\n",
    "                WHERE {\n",
    "                    ?s ?p ?o.\n",
    "                }\n",
    "                \"\"\"\n",
    "\n",
    "                # Execute the query\n",
    "                result = g.query(query)\n",
    "\n",
    "                # Print the result\n",
    "                for row in result:\n",
    "                    print(f\"Number of properties: {row.propertyCount}\")\n",
    "                    print(f\"Number of distinct properties: {row.distPropertyCount}\")\n",
    "\n",
    "                # query = \"\"\"\n",
    "                # SELECT (COUNT(DISTINCT ?entity) AS ?entityCount)\n",
    "                # WHERE {\n",
    "                #     { ?entity ?p ?o }\n",
    "                #     UNION\n",
    "                #     { ?s ?p ?entity }\n",
    "                # }\n",
    "                # \"\"\"\n",
    "\n",
    "                # # Execute the query\n",
    "                # result = g.query(query)\n",
    "\n",
    "                # # Print the result\n",
    "                # for row in result:\n",
    "                #     print(f\"Number of distinct entities: {row.entityCount}\")\n",
    "\n",
    "            else:\n",
    "                print('None')\n",
    "            print('')\n"
   ]
  }
 ],
 "metadata": {
  "kernelspec": {
   "display_name": "owl",
   "language": "python",
   "name": "python3"
  },
  "language_info": {
   "codemirror_mode": {
    "name": "ipython",
    "version": 3
   },
   "file_extension": ".py",
   "mimetype": "text/x-python",
   "name": "python",
   "nbconvert_exporter": "python",
   "pygments_lexer": "ipython3",
   "version": "3.10.14"
  }
 },
 "nbformat": 4,
 "nbformat_minor": 2
}
